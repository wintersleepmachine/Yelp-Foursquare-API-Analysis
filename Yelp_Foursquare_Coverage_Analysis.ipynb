{
 "cells": [
  {
   "cell_type": "markdown",
   "metadata": {},
   "source": [
    "## Purpose: \n",
    "### 1. Which API has better overall coverage: Yelp or Foursquare?\n",
    "### 2. Which 4 major cities in BC have on average the best rated restaurants and what are the top restaruants?\n",
    "### 3. Of the top 100+ most populated US cities, what are the Top 5 cities that on average have the best rated restaurants?\n",
    "### 4. Can I build a machine learning model to predict a sentiment/rating of a particular resturant?"
   ]
  },
  {
   "cell_type": "code",
   "execution_count": 1,
   "metadata": {},
   "outputs": [],
   "source": [
    "import pandas as pd\n",
    "import requests as re\n",
    "import numpy as np\n",
    "from pprint import pprint\n",
    "import json\n",
    "import time\n",
    "import os\n",
    "import matplotlib.pyplot as plt\n",
    "from scipy import stats\n",
    "\n",
    "import sqlite3 as sqlite\n",
    "from sqlalchemy import create_engine\n",
    "\n",
    "%matplotlib inline"
   ]
  },
  {
   "cell_type": "code",
   "execution_count": 5,
   "metadata": {},
   "outputs": [],
   "source": [
    "yelp_client = os.environ.get('YELP_CLIENT')\n",
    "yelp_api = os.environ.get('YELP_SECRET')\n",
    "\n",
    "foursqure_client = os.environ.get('FOURSQUARE_CLIENT')\n",
    "foursquare_secret = os.environ.get('FOURSQUARE_SECRET')"
   ]
  },
  {
   "cell_type": "code",
   "execution_count": 3,
   "metadata": {},
   "outputs": [],
   "source": [
    "# This function takes in a string parameter called 'cityname', \n",
    "# and an api parameter thats defaulted to yelp, but can be changed to foursquare\n",
    "# returns a list of dictionaries where each dictionary is an individual restaruant within that city.\n",
    "\n",
    "def get_restaurant_results(radius=2000, limit=50, api='yelp', cityname=None, lat=None, lon=None):\n",
    "    time.sleep(2)\n",
    "    if api=='yelp':\n",
    "        yelp_url = 'https://api.yelp.com/v3/businesses/search'\n",
    "        headers = {'Authorization':'Bearer %s' % yelp_api}\n",
    "\n",
    "        params = {'term': 'restaurants', \n",
    "                  'location': cityname,\n",
    "                  'latitude':lat,\n",
    "                  'longitude': lon,\n",
    "                  'radius': radius,\n",
    "                  'categories': 'restaurants',\n",
    "                  'limit': limit}\n",
    "        try:\n",
    "            yelp_data = re.get(yelp_url, params=params, headers=headers)\n",
    "            yelp_data = yelp_data.json()\n",
    "\n",
    "            return yelp_data['businesses']\n",
    "        except:\n",
    "            print('Something went wrong!')\n",
    "    \n",
    "    elif api == 'foursquare':\n",
    "        foursquare_url = 'https://api.foursquare.com/v2/venues/search'\n",
    "\n",
    "        foursquare_params = dict(\n",
    "        client_id=foursqure_client,\n",
    "        client_secret=foursquare_secret,\n",
    "        v='20180323',\n",
    "        near=cityname,\n",
    "        query='restaurant',\n",
    "        radius=radius,\n",
    "        limit=limit\n",
    "        )\n",
    "        \n",
    "        try:\n",
    "            resp = re.get(url=foursquare_url, params=foursquare_params)\n",
    "            data_foursquare = json.loads(resp.text)\n",
    "            return data_foursquare['response']['venues']\n",
    "        except:\n",
    "            print('Something went wrong!')"
   ]
  },
  {
   "cell_type": "code",
   "execution_count": 1,
   "metadata": {},
   "outputs": [],
   "source": [
    "# # Returned from get_restaurant_results() is a list of dictionaries where each dictionary a restaurant\n",
    "\n",
    "# get_restaurant_results(cityname='Vancouver, BC')"
   ]
  },
  {
   "cell_type": "markdown",
   "metadata": {},
   "source": [
    "# Comparing number of returned results between Yelp vs Foursquare"
   ]
  },
  {
   "cell_type": "markdown",
   "metadata": {},
   "source": [
    "#### Get 10 different cities in BC and compare API results"
   ]
  },
  {
   "cell_type": "code",
   "execution_count": 16,
   "metadata": {
    "scrolled": false
   },
   "outputs": [
    {
     "name": "stdout",
     "output_type": "stream",
     "text": [
      "Foursquare:  0\n",
      "Yelp:  10\n"
     ]
    }
   ],
   "source": [
    "# Example - Bowen Island\n",
    "\n",
    "foursquare = get_restaurant_results(cityname='Bowen Island, BC Canada', api='foursquare')\n",
    "yelp = get_restaurant_results(cityname='Bowen Island, BC Canada', api='yelp')\n",
    "\n",
    "print('Foursquare: ', len(foursquare))\n",
    "print('Yelp: ', len(yelp))"
   ]
  },
  {
   "cell_type": "code",
   "execution_count": 7,
   "metadata": {},
   "outputs": [],
   "source": [
    "# The 10 cities we are going to query\n",
    "\n",
    "cities_list = ['Squamish, BC Canada', \n",
    "               'Whistler, BC Canada', \n",
    "               'Vancouver, BC Canada', \n",
    "               'Richmond, BC Canada', \n",
    "               'Coquitlam, BC Canada', \n",
    "               'Surrey, BC Canada',\n",
    "               'Bowen Island, BC Canada',\n",
    "               'Kelowna, BC Canada', \n",
    "               'Victoria, BC Canada',\n",
    "               'White Rock, BC Canada']"
   ]
  },
  {
   "cell_type": "code",
   "execution_count": 8,
   "metadata": {},
   "outputs": [],
   "source": [
    "# Populate Foursquare and Yelp results with the number of returned results (restaraunts) for each city\n",
    "# i.e Querying 'Squamish' returned 3 results...\n",
    "\n",
    "foursquare_results = []\n",
    "yelp_results = []\n",
    "\n",
    "for city in cities_list:\n",
    "    # Get results for yelp\n",
    "    yelp = get_restaurant_results(city, api='yelp')\n",
    "    yelp_results.append(len(yelp))\n",
    "    \n",
    "    time.sleep(1)\n",
    "    \n",
    "    # Get results for foursquare\n",
    "    foursquare = get_restaurant_results(city, api='foursquare')\n",
    "    foursquare_results.append(len(foursquare))"
   ]
  },
  {
   "cell_type": "code",
   "execution_count": 9,
   "metadata": {},
   "outputs": [
    {
     "data": {
      "text/plain": [
       "[3, 11, 50, 50, 8, 7, 0, 18, 50, 19]"
      ]
     },
     "execution_count": 9,
     "metadata": {},
     "output_type": "execute_result"
    }
   ],
   "source": [
    "# Length of Foursquare results for each of the 10 cities queried\n",
    "foursquare_results"
   ]
  },
  {
   "cell_type": "code",
   "execution_count": 10,
   "metadata": {},
   "outputs": [
    {
     "data": {
      "text/plain": [
       "[31, 9, 50, 50, 33, 34, 10, 48, 50, 50]"
      ]
     },
     "execution_count": 10,
     "metadata": {},
     "output_type": "execute_result"
    }
   ],
   "source": [
    "# Length of Yelp results for each of the 10 cities queried\n",
    "yelp_results"
   ]
  },
  {
   "cell_type": "code",
   "execution_count": 11,
   "metadata": {},
   "outputs": [
    {
     "data": {
      "text/plain": [
       "['Squamish',\n",
       " 'Whistler',\n",
       " 'Vancouver',\n",
       " 'Richmond',\n",
       " 'Coquitlam',\n",
       " 'Surrey',\n",
       " 'Bowen Island',\n",
       " 'Kelowna',\n",
       " 'Victoria',\n",
       " 'White Rock']"
      ]
     },
     "execution_count": 11,
     "metadata": {},
     "output_type": "execute_result"
    }
   ],
   "source": [
    "cities = [city.split(',')[0] for city in cities_list]\n",
    "cities"
   ]
  },
  {
   "cell_type": "code",
   "execution_count": 12,
   "metadata": {},
   "outputs": [
    {
     "data": {
      "image/png": "[encoded data removed]",
      "text/plain": [
       "<Figure size 800x550 with 1 Axes>"
      ]
     },
     "metadata": {},
     "output_type": "display_data"
    }
   ],
   "source": [
    "plt.rcParams.update(plt.rcParamsDefault)\n",
    "plt.style.use('seaborn')\n",
    "\n",
    "barWidth = 0.2\n",
    " \n",
    "r1 = np.arange(len(cities))\n",
    "r2 = [x + barWidth for x in r1]\n",
    "r3 = [x + barWidth for x in r2]\n",
    " \n",
    "\n",
    "plt.bar(r1, foursquare_results, color='#395097', width=barWidth, edgecolor='white', label='Foursquare')\n",
    "plt.bar(r2, yelp_results, color='#A42626', width=barWidth, edgecolor='white', label='Yelp')\n",
    " \n",
    "\n",
    "plt.title('Search Results: Foursquare vs Yelp')\n",
    "    \n",
    "\n",
    "plt.xlabel('Cities (BC)', fontweight='bold')\n",
    "plt.xticks([r + barWidth for r in range(len(cities))], cities, rotation=-40)\n",
    "\n",
    "plt.ylabel('Number of Returned Search Results')\n",
    "\n",
    "plt.legend()\n",
    "plt.show()\n",
    "\n",
    "\n",
    "# Bar graph of the number of returned results grouped by city"
   ]
  },
  {
   "cell_type": "markdown",
   "metadata": {},
   "source": [
    "#### We see that Yelp generally returns more results than Foursquare for the 10 cities\n",
    "\n",
    "#### Comparing 10 cities isnt fair or accurate way to determine best API coverage"
   ]
  },
  {
   "cell_type": "markdown",
   "metadata": {},
   "source": [
    "## Is this trend consistent across 100+ random cities?"
   ]
  },
  {
   "cell_type": "markdown",
   "metadata": {},
   "source": [
    "##### 147 random canadian cities"
   ]
  },
  {
   "cell_type": "code",
   "execution_count": 2,
   "metadata": {},
   "outputs": [],
   "source": [
    "lines = open('canada_cities.txt').read().splitlines()\n",
    "lines = [(city +', Canada').replace('\\t', '') for city in lines]\n",
    "# lines"
   ]
  },
  {
   "cell_type": "code",
   "execution_count": 25,
   "metadata": {},
   "outputs": [],
   "source": [
    "# We are going to do the same as above, get the length of the results \n",
    "# FOR EACH city and append them to the corresponding api list where we fetched them from\n",
    "\n",
    "yelp_hundred = []\n",
    "foursquare_hunred = []\n",
    "\n",
    "# Fetching results for each city, 147 in total\n",
    "for city in lines:\n",
    "    # Get results for yelp\n",
    "    yelp = get_restaurant_results(city, api='yelp')\n",
    "    yelp_hundred.append(len(yelp))\n",
    "    \n",
    "    time.sleep(1)\n",
    "    \n",
    "    # Get results for foursquare\n",
    "    foursquare = get_restaurant_results(city, api='foursquare')\n",
    "    foursquare_hunred.append(len(foursquare))"
   ]
  },
  {
   "cell_type": "markdown",
   "metadata": {},
   "source": [
    "#### Get differences between yelp results and foursquare results"
   ]
  },
  {
   "cell_type": "code",
   "execution_count": 53,
   "metadata": {},
   "outputs": [
    {
     "data": {
      "text/plain": [
       "array([ 47,  43,  -3,  20,  -3,  31,  37,  40,   5,  42,  34,   7,  49,\n",
       "        24,   0,   1,  29,   0,  13,  10,   1,  33,  -3,  -1,   3,  25,\n",
       "         5,  23,  41,  45,  41,   5,  17, -14,   9,   0,  20,   3,  -3,\n",
       "         0,   3,  21,   2,  32,  26,  40,  12,  38,  -7,   2,  40,   0,\n",
       "         6,  14,   4, -17,   0,  30,  -7,  12,   1,  39,  10,  36,  18,\n",
       "        41,  26,   2,  13,  37,  33,  18,  17,   5,  20,  25,   3,  11,\n",
       "        -1,  47,  27,   3,   0,  17,  22,  44,  39,   0,  16,  22,  12,\n",
       "        39,  40,  50,  -5,  30,  -4,  17,  29,   9,  20,   0,  25,  26,\n",
       "        -1,   0,  29,  24,   0,   6,  45,  22,  36,  34,  -5,  15,  39,\n",
       "        31,  24,  18,  10,  47,  27,  31,   3,  18,   8,  -1,  27,   8,\n",
       "        10,  12,   0,  48,  34,   0,  19,  38,  16,  20,  31,  -4,  32,\n",
       "         5,   0,  42,  -4])"
      ]
     },
     "execution_count": 53,
     "metadata": {},
     "output_type": "execute_result"
    }
   ],
   "source": [
    "# Here we are finding the differnce between the two lists.\n",
    "# number of yelp results - number of foursquare results\n",
    "# Sequential operation across each 147 items between the two lists\n",
    "\n",
    "yelp_foursquare_difference = np.array(yelp_hundred) - np.array(foursquare_hunred)\n",
    "yelp_foursquare_difference"
   ]
  },
  {
   "cell_type": "code",
   "execution_count": 28,
   "metadata": {},
   "outputs": [],
   "source": [
    "# Saving the file so I dont have to run the for loop api above...\n",
    "with open('yelp_foursquare_difference.txt', 'w') as f:\n",
    "    for item in yelp_foursquare_difference:\n",
    "        f.write(\"%s\\n\" % item)"
   ]
  },
  {
   "cell_type": "code",
   "execution_count": 8,
   "metadata": {},
   "outputs": [
    {
     "data": {
      "image/png": "[encoded data removed]",
      "text/plain": [
       "<Figure size 576x396 with 1 Axes>"
      ]
     },
     "metadata": {},
     "output_type": "display_data"
    }
   ],
   "source": [
    "plt.style.use('seaborn')\n",
    "\n",
    "plt.hist(yelp_foursquare_difference, alpha=0.7, histtype='bar', ec='black')\n",
    "\n",
    "plt.title('Differences between Yelp vs Foursquare results')\n",
    "\n",
    "plt.xlabel('Results')\n",
    "plt.ylabel('Frequency')\n",
    "\n",
    "plt.vlines(np.array(yelp_foursquare_difference).mean(), ymin=0, ymax=35, colors='r', linestyles='solid', label='')\n",
    "\n",
    "plt.show()"
   ]
  },
  {
   "cell_type": "code",
   "execution_count": 20,
   "metadata": {},
   "outputs": [
    {
     "name": "stdout",
     "output_type": "stream",
     "text": [
      "Mean:  17.7\n",
      "Standard Deviation:  16.4\n",
      "Mode:  0\n"
     ]
    }
   ],
   "source": [
    "# Created a histogram: The majority of the distrabution lie in the positive field (above 0)\n",
    "# This means that there were more results returned for Yelp then foursquare\n",
    "# The negative area represent the distribution for where more results returned for Foursquare then Yelp\n",
    "# The mode is 0, which is the most frequently occuring value (both Yelp and foursquare returned the same results)\n",
    "\n",
    "print('Mean: ', round(np.array(yelp_foursquare_difference).mean(), 1))\n",
    "print('Standard Deviation: ',round(np.array(yelp_foursquare_difference).std(), 1))\n",
    "print('Mode: ', stats.mode(np.array(yelp_foursquare_difference), axis=None)[0][0])"
   ]
  },
  {
   "cell_type": "markdown",
   "metadata": {},
   "source": [
    "##### Yelp produces better results then Foursquare, on average 17.7 plus difference"
   ]
  },
  {
   "cell_type": "markdown",
   "metadata": {},
   "source": [
    "## Which cities in the lower mainland have on average the best restaurants?"
   ]
  },
  {
   "cell_type": "markdown",
   "metadata": {},
   "source": [
    "#### Lets use Yelp, since it generally produces better results"
   ]
  },
  {
   "cell_type": "code",
   "execution_count": 6,
   "metadata": {},
   "outputs": [],
   "source": [
    "# Going to compare Coquiltam, Vancouver, Richmond and Surrey.\n",
    "# Get the average mean of ratings grouped by city\n",
    "\n",
    "coquitlam_data = get_restaurant_results(cityname='Coquitlam BC', api='yelp')\n",
    "vancouver_data = get_restaurant_results(cityname='Vancouver, BC', api='yelp')\n",
    "richmond_data = get_restaurant_results(cityname='Richmond, BC', api='yelp')\n",
    "surrey_data = get_restaurant_results(cityname='Surrey, BC', api='yelp')"
   ]
  },
  {
   "cell_type": "code",
   "execution_count": 7,
   "metadata": {},
   "outputs": [
    {
     "data": {
      "text/plain": [
       "(33, 50, 50, 34)"
      ]
     },
     "execution_count": 7,
     "metadata": {},
     "output_type": "execute_result"
    }
   ],
   "source": [
    "len(coquitlam_data),len(vancouver_data),len(richmond_data),len(surrey_data),"
   ]
  },
  {
   "cell_type": "code",
   "execution_count": 84,
   "metadata": {},
   "outputs": [],
   "source": [
    "# Here we are going to pull out information i.e name, location, rating etc.. and return a list of dictionaries.\n",
    "# One dictionary for each restaraunt, cleaner format. This will be used before we input the data into a Pandas DataFrame\n",
    "\n",
    "def process_data(data):\n",
    "    ls = []\n",
    "    \n",
    "    for r in data:\n",
    "        some_dict = {}\n",
    "        \n",
    "        # If no 'rating' key, do not add this dictionary.\n",
    "        if 'rating' not in r:\n",
    "            continue\n",
    "        else:\n",
    "            some_dict['rating'] = r['rating']\n",
    "        \n",
    "        # If no coordinates skip\n",
    "        if 'coordinates' not in r:\n",
    "            continue\n",
    "        else:\n",
    "            some_dict['lat'] = r['coordinates']['latitude']\n",
    "            some_dict['lon'] = r['coordinates']['longitude']\n",
    "            \n",
    "        \n",
    "        # Check to see if theres a city\n",
    "        if 'location' in r and 'city' in r['location']:\n",
    "            some_dict['city'] = r['location']['city']\n",
    "        else:\n",
    "            some_dict['city'] = 'U'\n",
    "        \n",
    "        \n",
    "        \n",
    "        # If not name just default to 'U'\n",
    "        if 'name' in r:\n",
    "            some_dict['name'] = r['name']\n",
    "        else:\n",
    "            some_dict['name'] = 'U'\n",
    "        \n",
    "        \n",
    "        important_categories = ['U', \n",
    "                        'American (New)', \n",
    "                        'Mexican', \n",
    "                        'Pizza', \n",
    "                        'American (Traditional)', \n",
    "                        'Burgers', 'Sandwiches', \n",
    "                        'Seafood', \n",
    "                        'Fast Food', \n",
    "                        'Bars', \n",
    "                        'Breakfast & Brunch', \n",
    "                        'Chinese', \n",
    "                        'Italian', \n",
    "                        'Mediterranean', \n",
    "                        'Coffee & Tea', \n",
    "                        'Food Trucks', \n",
    "                        'Barbeque', \n",
    "                        'Japanese', \n",
    "                        'Sushi Bars', \n",
    "                        'Korean']\n",
    "        \n",
    "        \n",
    "        # If no category default 'U'\n",
    "        if 'categories' in r and len(r['categories']) > 1:\n",
    "            if r['categories'][0]['title'] in important_categories:\n",
    "                some_dict['category'] = r['categories'][0]['title']\n",
    "            else:\n",
    "                some_dict['category'] = 'Other'\n",
    "        else:\n",
    "            some_dict['category'] = 'U'\n",
    "        \n",
    "        # If no price just default '$$'\n",
    "        if 'price' in r:\n",
    "            some_dict['price'] = r['price']\n",
    "        else:\n",
    "            some_dict['price'] = '$$'\n",
    "            \n",
    "        # If not price just default 0\n",
    "        if 'review_count' in r:\n",
    "            some_dict['review_count'] = r['review_count']\n",
    "        else:\n",
    "            some_dict['review_count'] = 0  \n",
    "        \n",
    "        ls.append(some_dict)   \n",
    "    \n",
    "    return ls"
   ]
  },
  {
   "cell_type": "code",
   "execution_count": 85,
   "metadata": {},
   "outputs": [],
   "source": [
    "vancouver_lst = process_data(vancouver_data)\n",
    "richmond_lst = process_data(richmond_data)\n",
    "surrey_lst = process_data(surrey_data)\n",
    "coquitlam_lst = process_data(coquitlam_data)"
   ]
  },
  {
   "cell_type": "code",
   "execution_count": 86,
   "metadata": {},
   "outputs": [
    {
     "data": {
      "text/plain": [
       "(50, 50, 34, 33)"
      ]
     },
     "execution_count": 86,
     "metadata": {},
     "output_type": "execute_result"
    }
   ],
   "source": [
    "len(vancouver_lst), len(richmond_lst), len(surrey_lst), len(coquitlam_lst)"
   ]
  },
  {
   "cell_type": "code",
   "execution_count": 87,
   "metadata": {},
   "outputs": [],
   "source": [
    "# Function to input the data we processed above and output a nice Pandas DataFrame\n",
    "def create_df(lst_of_data):\n",
    "    x = ['name', 'rating', 'category', 'price', 'review_count', 'lat', 'lon', 'city']\n",
    "    \n",
    "    some_dict = {'name': [], 'category': [], 'price': [], 'review_count': [], 'lat':[], 'lon': [], 'rating': [], 'city': []}\n",
    "    \n",
    "    for r in lst_of_data:\n",
    "        for key in x:\n",
    "            some_dict[key].append(r[key])\n",
    "            \n",
    "    return pd.DataFrame(some_dict, columns = x)"
   ]
  },
  {
   "cell_type": "code",
   "execution_count": 88,
   "metadata": {},
   "outputs": [],
   "source": [
    "vancouver_df = create_df(vancouver_lst)\n",
    "coquitlam_df = create_df(coquitlam_lst)\n",
    "richmond_df = create_df(richmond_lst)\n",
    "surrey_df = create_df(surrey_lst)"
   ]
  },
  {
   "cell_type": "markdown",
   "metadata": {},
   "source": [
    "#### After all that processing we get a Pandas DataFrame for each city"
   ]
  },
  {
   "cell_type": "code",
   "execution_count": 89,
   "metadata": {},
   "outputs": [
    {
     "data": {
      "text/html": [
       "<div>\n",
       "<style scoped>\n",
       "    .dataframe tbody tr th:only-of-type {\n",
       "        vertical-align: middle;\n",
       "    }\n",
       "\n",
       "    .dataframe tbody tr th {\n",
       "        vertical-align: top;\n",
       "    }\n",
       "\n",
       "    .dataframe thead th {\n",
       "        text-align: right;\n",
       "    }\n",
       "</style>\n",
       "<table border=\"1\" class=\"dataframe\">\n",
       "  <thead>\n",
       "    <tr style=\"text-align: right;\">\n",
       "      <th></th>\n",
       "      <th>name</th>\n",
       "      <th>rating</th>\n",
       "      <th>category</th>\n",
       "      <th>price</th>\n",
       "      <th>review_count</th>\n",
       "      <th>lat</th>\n",
       "      <th>lon</th>\n",
       "      <th>city</th>\n",
       "    </tr>\n",
       "  </thead>\n",
       "  <tbody>\n",
       "    <tr>\n",
       "      <th>0</th>\n",
       "      <td>Jam Cafe on Beatty</td>\n",
       "      <td>4.5</td>\n",
       "      <td>U</td>\n",
       "      <td>$$</td>\n",
       "      <td>1067</td>\n",
       "      <td>49.280259</td>\n",
       "      <td>-123.109638</td>\n",
       "      <td>Vancouver</td>\n",
       "    </tr>\n",
       "    <tr>\n",
       "      <th>1</th>\n",
       "      <td>Medina Cafe</td>\n",
       "      <td>4.0</td>\n",
       "      <td>Breakfast &amp; Brunch</td>\n",
       "      <td>$$</td>\n",
       "      <td>2282</td>\n",
       "      <td>49.280443</td>\n",
       "      <td>-123.117036</td>\n",
       "      <td>Vancouver</td>\n",
       "    </tr>\n",
       "    <tr>\n",
       "      <th>2</th>\n",
       "      <td>The Flying Pig - Yaletown</td>\n",
       "      <td>4.0</td>\n",
       "      <td>Other</td>\n",
       "      <td>$$</td>\n",
       "      <td>1095</td>\n",
       "      <td>49.275010</td>\n",
       "      <td>-123.122000</td>\n",
       "      <td>Vancouver</td>\n",
       "    </tr>\n",
       "    <tr>\n",
       "      <th>3</th>\n",
       "      <td>OEB Breakfast Co.</td>\n",
       "      <td>4.0</td>\n",
       "      <td>U</td>\n",
       "      <td>$$</td>\n",
       "      <td>331</td>\n",
       "      <td>49.273434</td>\n",
       "      <td>-123.119272</td>\n",
       "      <td>Vancouver</td>\n",
       "    </tr>\n",
       "    <tr>\n",
       "      <th>4</th>\n",
       "      <td>Saku</td>\n",
       "      <td>4.0</td>\n",
       "      <td>U</td>\n",
       "      <td>$$</td>\n",
       "      <td>115</td>\n",
       "      <td>49.263125</td>\n",
       "      <td>-123.116603</td>\n",
       "      <td>Vancouver</td>\n",
       "    </tr>\n",
       "  </tbody>\n",
       "</table>\n",
       "</div>"
      ],
      "text/plain": [
       "                        name  rating            category price  review_count  \\\n",
       "0         Jam Cafe on Beatty     4.5                   U    $$          1067   \n",
       "1                Medina Cafe     4.0  Breakfast & Brunch    $$          2282   \n",
       "2  The Flying Pig - Yaletown     4.0               Other    $$          1095   \n",
       "3          OEB Breakfast Co.     4.0                   U    $$           331   \n",
       "4                       Saku     4.0                   U    $$           115   \n",
       "\n",
       "         lat         lon       city  \n",
       "0  49.280259 -123.109638  Vancouver  \n",
       "1  49.280443 -123.117036  Vancouver  \n",
       "2  49.275010 -123.122000  Vancouver  \n",
       "3  49.273434 -123.119272  Vancouver  \n",
       "4  49.263125 -123.116603  Vancouver  "
      ]
     },
     "execution_count": 89,
     "metadata": {},
     "output_type": "execute_result"
    }
   ],
   "source": [
    "vancouver_df.head()"
   ]
  },
  {
   "cell_type": "code",
   "execution_count": 90,
   "metadata": {},
   "outputs": [
    {
     "data": {
      "text/html": [
       "<div>\n",
       "<style scoped>\n",
       "    .dataframe tbody tr th:only-of-type {\n",
       "        vertical-align: middle;\n",
       "    }\n",
       "\n",
       "    .dataframe tbody tr th {\n",
       "        vertical-align: top;\n",
       "    }\n",
       "\n",
       "    .dataframe thead th {\n",
       "        text-align: right;\n",
       "    }\n",
       "</style>\n",
       "<table border=\"1\" class=\"dataframe\">\n",
       "  <thead>\n",
       "    <tr style=\"text-align: right;\">\n",
       "      <th></th>\n",
       "      <th>name</th>\n",
       "      <th>rating</th>\n",
       "      <th>category</th>\n",
       "      <th>price</th>\n",
       "      <th>review_count</th>\n",
       "      <th>lat</th>\n",
       "      <th>lon</th>\n",
       "      <th>city</th>\n",
       "    </tr>\n",
       "  </thead>\n",
       "  <tbody>\n",
       "    <tr>\n",
       "      <th>0</th>\n",
       "      <td>Omega Cafe</td>\n",
       "      <td>4.5</td>\n",
       "      <td>Other</td>\n",
       "      <td>$$</td>\n",
       "      <td>41</td>\n",
       "      <td>49.276415</td>\n",
       "      <td>-122.846803</td>\n",
       "      <td>Port Moody</td>\n",
       "    </tr>\n",
       "    <tr>\n",
       "      <th>1</th>\n",
       "      <td>Chuncheon Dakgalbi</td>\n",
       "      <td>4.0</td>\n",
       "      <td>Barbeque</td>\n",
       "      <td>$$</td>\n",
       "      <td>9</td>\n",
       "      <td>49.276484</td>\n",
       "      <td>-122.843514</td>\n",
       "      <td>Port Moody</td>\n",
       "    </tr>\n",
       "    <tr>\n",
       "      <th>2</th>\n",
       "      <td>Doppio Zero Pizza</td>\n",
       "      <td>3.5</td>\n",
       "      <td>Italian</td>\n",
       "      <td>$$</td>\n",
       "      <td>32</td>\n",
       "      <td>49.263555</td>\n",
       "      <td>-122.847654</td>\n",
       "      <td>Coquitlam</td>\n",
       "    </tr>\n",
       "    <tr>\n",
       "      <th>3</th>\n",
       "      <td>Zhous Chinese Restaurant</td>\n",
       "      <td>3.5</td>\n",
       "      <td>U</td>\n",
       "      <td>$</td>\n",
       "      <td>12</td>\n",
       "      <td>49.262649</td>\n",
       "      <td>-122.839038</td>\n",
       "      <td>Coquitlam</td>\n",
       "    </tr>\n",
       "    <tr>\n",
       "      <th>4</th>\n",
       "      <td>Sun Star Chinese</td>\n",
       "      <td>3.0</td>\n",
       "      <td>U</td>\n",
       "      <td>$$</td>\n",
       "      <td>45</td>\n",
       "      <td>49.248981</td>\n",
       "      <td>-122.835332</td>\n",
       "      <td>Coquitlam</td>\n",
       "    </tr>\n",
       "  </tbody>\n",
       "</table>\n",
       "</div>"
      ],
      "text/plain": [
       "                       name  rating  category price  review_count        lat  \\\n",
       "0                Omega Cafe     4.5     Other    $$            41  49.276415   \n",
       "1        Chuncheon Dakgalbi     4.0  Barbeque    $$             9  49.276484   \n",
       "2         Doppio Zero Pizza     3.5   Italian    $$            32  49.263555   \n",
       "3  Zhous Chinese Restaurant     3.5         U     $            12  49.262649   \n",
       "4          Sun Star Chinese     3.0         U    $$            45  49.248981   \n",
       "\n",
       "          lon        city  \n",
       "0 -122.846803  Port Moody  \n",
       "1 -122.843514  Port Moody  \n",
       "2 -122.847654   Coquitlam  \n",
       "3 -122.839038   Coquitlam  \n",
       "4 -122.835332   Coquitlam  "
      ]
     },
     "execution_count": 90,
     "metadata": {},
     "output_type": "execute_result"
    }
   ],
   "source": [
    "coquitlam_df.head()"
   ]
  },
  {
   "cell_type": "code",
   "execution_count": 91,
   "metadata": {},
   "outputs": [
    {
     "data": {
      "text/html": [
       "<div>\n",
       "<style scoped>\n",
       "    .dataframe tbody tr th:only-of-type {\n",
       "        vertical-align: middle;\n",
       "    }\n",
       "\n",
       "    .dataframe tbody tr th {\n",
       "        vertical-align: top;\n",
       "    }\n",
       "\n",
       "    .dataframe thead th {\n",
       "        text-align: right;\n",
       "    }\n",
       "</style>\n",
       "<table border=\"1\" class=\"dataframe\">\n",
       "  <thead>\n",
       "    <tr style=\"text-align: right;\">\n",
       "      <th></th>\n",
       "      <th>name</th>\n",
       "      <th>rating</th>\n",
       "      <th>category</th>\n",
       "      <th>price</th>\n",
       "      <th>review_count</th>\n",
       "      <th>lat</th>\n",
       "      <th>lon</th>\n",
       "      <th>city</th>\n",
       "    </tr>\n",
       "  </thead>\n",
       "  <tbody>\n",
       "    <tr>\n",
       "      <th>0</th>\n",
       "      <td>Mr Bro Korean Bistro &amp; Izakaya</td>\n",
       "      <td>4.5</td>\n",
       "      <td>U</td>\n",
       "      <td>$$</td>\n",
       "      <td>53</td>\n",
       "      <td>49.178175</td>\n",
       "      <td>-123.127902</td>\n",
       "      <td>Richmond</td>\n",
       "    </tr>\n",
       "    <tr>\n",
       "      <th>1</th>\n",
       "      <td>John 3:16 Malaysian Delights</td>\n",
       "      <td>4.0</td>\n",
       "      <td>U</td>\n",
       "      <td>$$</td>\n",
       "      <td>146</td>\n",
       "      <td>49.164132</td>\n",
       "      <td>-123.136219</td>\n",
       "      <td>Richmond</td>\n",
       "    </tr>\n",
       "    <tr>\n",
       "      <th>2</th>\n",
       "      <td>The Fish Man</td>\n",
       "      <td>4.5</td>\n",
       "      <td>Seafood</td>\n",
       "      <td>$$</td>\n",
       "      <td>34</td>\n",
       "      <td>49.178466</td>\n",
       "      <td>-123.130252</td>\n",
       "      <td>Richmond</td>\n",
       "    </tr>\n",
       "    <tr>\n",
       "      <th>3</th>\n",
       "      <td>Shanghai River</td>\n",
       "      <td>4.0</td>\n",
       "      <td>Chinese</td>\n",
       "      <td>$$</td>\n",
       "      <td>676</td>\n",
       "      <td>49.170740</td>\n",
       "      <td>-123.138480</td>\n",
       "      <td>Richmond</td>\n",
       "    </tr>\n",
       "    <tr>\n",
       "      <th>4</th>\n",
       "      <td>Micha</td>\n",
       "      <td>4.0</td>\n",
       "      <td>Chinese</td>\n",
       "      <td>$$</td>\n",
       "      <td>8</td>\n",
       "      <td>49.178684</td>\n",
       "      <td>-123.124815</td>\n",
       "      <td>Richmond</td>\n",
       "    </tr>\n",
       "  </tbody>\n",
       "</table>\n",
       "</div>"
      ],
      "text/plain": [
       "                             name  rating category price  review_count  \\\n",
       "0  Mr Bro Korean Bistro & Izakaya     4.5        U    $$            53   \n",
       "1    John 3:16 Malaysian Delights     4.0        U    $$           146   \n",
       "2                    The Fish Man     4.5  Seafood    $$            34   \n",
       "3                  Shanghai River     4.0  Chinese    $$           676   \n",
       "4                           Micha     4.0  Chinese    $$             8   \n",
       "\n",
       "         lat         lon      city  \n",
       "0  49.178175 -123.127902  Richmond  \n",
       "1  49.164132 -123.136219  Richmond  \n",
       "2  49.178466 -123.130252  Richmond  \n",
       "3  49.170740 -123.138480  Richmond  \n",
       "4  49.178684 -123.124815  Richmond  "
      ]
     },
     "execution_count": 91,
     "metadata": {},
     "output_type": "execute_result"
    }
   ],
   "source": [
    "richmond_df.head()"
   ]
  },
  {
   "cell_type": "code",
   "execution_count": 92,
   "metadata": {},
   "outputs": [
    {
     "data": {
      "text/html": [
       "<div>\n",
       "<style scoped>\n",
       "    .dataframe tbody tr th:only-of-type {\n",
       "        vertical-align: middle;\n",
       "    }\n",
       "\n",
       "    .dataframe tbody tr th {\n",
       "        vertical-align: top;\n",
       "    }\n",
       "\n",
       "    .dataframe thead th {\n",
       "        text-align: right;\n",
       "    }\n",
       "</style>\n",
       "<table border=\"1\" class=\"dataframe\">\n",
       "  <thead>\n",
       "    <tr style=\"text-align: right;\">\n",
       "      <th></th>\n",
       "      <th>name</th>\n",
       "      <th>rating</th>\n",
       "      <th>category</th>\n",
       "      <th>price</th>\n",
       "      <th>review_count</th>\n",
       "      <th>lat</th>\n",
       "      <th>lon</th>\n",
       "      <th>city</th>\n",
       "    </tr>\n",
       "  </thead>\n",
       "  <tbody>\n",
       "    <tr>\n",
       "      <th>0</th>\n",
       "      <td>Be 'wiched Cafe</td>\n",
       "      <td>4.5</td>\n",
       "      <td>U</td>\n",
       "      <td>$</td>\n",
       "      <td>46</td>\n",
       "      <td>49.104194</td>\n",
       "      <td>-122.799742</td>\n",
       "      <td>Surrey</td>\n",
       "    </tr>\n",
       "    <tr>\n",
       "      <th>1</th>\n",
       "      <td>New York New York</td>\n",
       "      <td>4.0</td>\n",
       "      <td>U</td>\n",
       "      <td>$$</td>\n",
       "      <td>89</td>\n",
       "      <td>49.118470</td>\n",
       "      <td>-122.801390</td>\n",
       "      <td>Surrey</td>\n",
       "    </tr>\n",
       "    <tr>\n",
       "      <th>2</th>\n",
       "      <td>Quesada Burritos &amp; Tacos</td>\n",
       "      <td>4.0</td>\n",
       "      <td>U</td>\n",
       "      <td>$$</td>\n",
       "      <td>1</td>\n",
       "      <td>49.102888</td>\n",
       "      <td>-122.797281</td>\n",
       "      <td>Surrey</td>\n",
       "    </tr>\n",
       "    <tr>\n",
       "      <th>3</th>\n",
       "      <td>Dawood's Pizza</td>\n",
       "      <td>5.0</td>\n",
       "      <td>U</td>\n",
       "      <td>$$</td>\n",
       "      <td>2</td>\n",
       "      <td>49.118930</td>\n",
       "      <td>-122.817100</td>\n",
       "      <td>Surrey</td>\n",
       "    </tr>\n",
       "    <tr>\n",
       "      <th>4</th>\n",
       "      <td>West Village Cafe</td>\n",
       "      <td>4.0</td>\n",
       "      <td>Sandwiches</td>\n",
       "      <td>$$</td>\n",
       "      <td>29</td>\n",
       "      <td>49.104752</td>\n",
       "      <td>-122.799629</td>\n",
       "      <td>Surrey</td>\n",
       "    </tr>\n",
       "  </tbody>\n",
       "</table>\n",
       "</div>"
      ],
      "text/plain": [
       "                       name  rating    category price  review_count  \\\n",
       "0           Be 'wiched Cafe     4.5           U     $            46   \n",
       "1         New York New York     4.0           U    $$            89   \n",
       "2  Quesada Burritos & Tacos     4.0           U    $$             1   \n",
       "3            Dawood's Pizza     5.0           U    $$             2   \n",
       "4         West Village Cafe     4.0  Sandwiches    $$            29   \n",
       "\n",
       "         lat         lon    city  \n",
       "0  49.104194 -122.799742  Surrey  \n",
       "1  49.118470 -122.801390  Surrey  \n",
       "2  49.102888 -122.797281  Surrey  \n",
       "3  49.118930 -122.817100  Surrey  \n",
       "4  49.104752 -122.799629  Surrey  "
      ]
     },
     "execution_count": 92,
     "metadata": {},
     "output_type": "execute_result"
    }
   ],
   "source": [
    "surrey_df.head()"
   ]
  },
  {
   "cell_type": "code",
   "execution_count": 97,
   "metadata": {},
   "outputs": [],
   "source": [
    "# Appending the all the dataframes together\n",
    "full_df = pd.concat([vancouver_df, coquitlam_df, richmond_df, surrey_df], axis=0) "
   ]
  },
  {
   "cell_type": "code",
   "execution_count": 98,
   "metadata": {},
   "outputs": [
    {
     "data": {
      "text/plain": [
       "city\n",
       "Vancouver     4.180000\n",
       "Richmond      4.070000\n",
       "Port Moody    3.481481\n",
       "Coquitlam     3.416667\n",
       "Surrey        3.294118\n",
       "Name: rating, dtype: float64"
      ]
     },
     "execution_count": 98,
     "metadata": {},
     "output_type": "execute_result"
    }
   ],
   "source": [
    "# Here we display the top cities in descending order with on average the best rated restaruants\n",
    "\n",
    "full_df.groupby(by='city')['rating'].mean().sort_values(ascending=False)"
   ]
  },
  {
   "cell_type": "code",
   "execution_count": 99,
   "metadata": {},
   "outputs": [],
   "source": [
    "# Saving lowermainland dataframe\n",
    "full_df.to_csv('canada_df.csv', index=False)"
   ]
  },
  {
   "cell_type": "code",
   "execution_count": 2,
   "metadata": {},
   "outputs": [],
   "source": [
    "bc_df = pd.read_csv('canada_df.csv')"
   ]
  },
  {
   "cell_type": "code",
   "execution_count": null,
   "metadata": {},
   "outputs": [],
   "source": []
  },
  {
   "cell_type": "code",
   "execution_count": null,
   "metadata": {},
   "outputs": [],
   "source": []
  },
  {
   "cell_type": "markdown",
   "metadata": {},
   "source": [
    "### Creating a SQL database to store BC results"
   ]
  },
  {
   "cell_type": "code",
   "execution_count": null,
   "metadata": {},
   "outputs": [],
   "source": [
    "with sqlite.connect('restaurants.db') as con:\n",
    "    cur = con.cursor()\n",
    "    cur.execute(\"CREATE TABLE IF NOT EXISTS bc(id INTEGER PRIMARY KEY, name TEXT, rating INT, category TEXT, price TEXT, lat INT, lon INT, city INT)\")\n",
    "    \n",
    "    for index, row in bc_df.iterrows():\n",
    "        cur.execute(f\"INSERT INTO bc VALUES(NULL, {row['name']}, {row['rating']}, {row['category']}, {row['price']}, {row['lat']}, {row['lon']}, {row['city']})\")"
   ]
  },
  {
   "cell_type": "code",
   "execution_count": null,
   "metadata": {},
   "outputs": [],
   "source": []
  },
  {
   "cell_type": "code",
   "execution_count": null,
   "metadata": {},
   "outputs": [],
   "source": []
  },
  {
   "cell_type": "markdown",
   "metadata": {},
   "source": [
    "### Lets find the top 10 restaurants in the lower mainland"
   ]
  },
  {
   "cell_type": "code",
   "execution_count": 52,
   "metadata": {},
   "outputs": [
    {
     "data": {
      "text/plain": [
       "Int64Index([1, 7, 2, 0, 6, 86, 22, 18, 20, 93], dtype='int64')"
      ]
     },
     "execution_count": 52,
     "metadata": {},
     "output_type": "execute_result"
    }
   ],
   "source": [
    "# Lets get list of top 10 ascending review counts\n",
    "idxs = bc_df['review_count'].sort_values(ascending=False)[:10].index\n",
    "idxs"
   ]
  },
  {
   "cell_type": "code",
   "execution_count": 92,
   "metadata": {},
   "outputs": [
    {
     "name": "stdout",
     "output_type": "stream",
     "text": [
      "TOP 10 RESTAURANTS IN THE LOWER MAINLAND\n"
     ]
    },
    {
     "data": {
      "text/html": [
       "<div>\n",
       "<style scoped>\n",
       "    .dataframe tbody tr th:only-of-type {\n",
       "        vertical-align: middle;\n",
       "    }\n",
       "\n",
       "    .dataframe tbody tr th {\n",
       "        vertical-align: top;\n",
       "    }\n",
       "\n",
       "    .dataframe thead th {\n",
       "        text-align: right;\n",
       "    }\n",
       "</style>\n",
       "<table border=\"1\" class=\"dataframe\">\n",
       "  <thead>\n",
       "    <tr style=\"text-align: right;\">\n",
       "      <th></th>\n",
       "      <th>name</th>\n",
       "      <th>rating</th>\n",
       "      <th>review_count</th>\n",
       "      <th>city</th>\n",
       "    </tr>\n",
       "  </thead>\n",
       "  <tbody>\n",
       "    <tr>\n",
       "      <th>0</th>\n",
       "      <td>Jam Cafe on Beatty</td>\n",
       "      <td>4.5</td>\n",
       "      <td>1067</td>\n",
       "      <td>Vancouver</td>\n",
       "    </tr>\n",
       "    <tr>\n",
       "      <th>1</th>\n",
       "      <td>Blue Water Cafe</td>\n",
       "      <td>4.5</td>\n",
       "      <td>902</td>\n",
       "      <td>Vancouver</td>\n",
       "    </tr>\n",
       "    <tr>\n",
       "      <th>2</th>\n",
       "      <td>Fanny Bay Oyster Bar &amp; Shellfish Market</td>\n",
       "      <td>4.5</td>\n",
       "      <td>562</td>\n",
       "      <td>Vancouver</td>\n",
       "    </tr>\n",
       "    <tr>\n",
       "      <th>3</th>\n",
       "      <td>Medina Cafe</td>\n",
       "      <td>4.0</td>\n",
       "      <td>2282</td>\n",
       "      <td>Vancouver</td>\n",
       "    </tr>\n",
       "    <tr>\n",
       "      <th>4</th>\n",
       "      <td>Chambar</td>\n",
       "      <td>4.0</td>\n",
       "      <td>1349</td>\n",
       "      <td>Vancouver</td>\n",
       "    </tr>\n",
       "    <tr>\n",
       "      <th>5</th>\n",
       "      <td>The Flying Pig - Yaletown</td>\n",
       "      <td>4.0</td>\n",
       "      <td>1095</td>\n",
       "      <td>Vancouver</td>\n",
       "    </tr>\n",
       "    <tr>\n",
       "      <th>6</th>\n",
       "      <td>Shanghai River</td>\n",
       "      <td>4.0</td>\n",
       "      <td>676</td>\n",
       "      <td>Richmond</td>\n",
       "    </tr>\n",
       "    <tr>\n",
       "      <th>7</th>\n",
       "      <td>La Taqueria Pinche Taco Shop</td>\n",
       "      <td>4.0</td>\n",
       "      <td>609</td>\n",
       "      <td>Vancouver</td>\n",
       "    </tr>\n",
       "    <tr>\n",
       "      <th>8</th>\n",
       "      <td>Kirin Seafood Restaurant</td>\n",
       "      <td>4.0</td>\n",
       "      <td>485</td>\n",
       "      <td>Richmond</td>\n",
       "    </tr>\n",
       "    <tr>\n",
       "      <th>9</th>\n",
       "      <td>Peaceful Restaurant</td>\n",
       "      <td>3.5</td>\n",
       "      <td>569</td>\n",
       "      <td>Vancouver</td>\n",
       "    </tr>\n",
       "  </tbody>\n",
       "</table>\n",
       "</div>"
      ],
      "text/plain": [
       "                                      name  rating  review_count       city\n",
       "0                       Jam Cafe on Beatty     4.5          1067  Vancouver\n",
       "1                          Blue Water Cafe     4.5           902  Vancouver\n",
       "2  Fanny Bay Oyster Bar & Shellfish Market     4.5           562  Vancouver\n",
       "3                              Medina Cafe     4.0          2282  Vancouver\n",
       "4                                  Chambar     4.0          1349  Vancouver\n",
       "5                The Flying Pig - Yaletown     4.0          1095  Vancouver\n",
       "6                           Shanghai River     4.0           676   Richmond\n",
       "7             La Taqueria Pinche Taco Shop     4.0           609  Vancouver\n",
       "8                 Kirin Seafood Restaurant     4.0           485   Richmond\n",
       "9                      Peaceful Restaurant     3.5           569  Vancouver"
      ]
     },
     "execution_count": 92,
     "metadata": {},
     "output_type": "execute_result"
    }
   ],
   "source": [
    "# Sorted rating then review_count\n",
    "\n",
    "print('TOP 10 RESTAURANTS IN THE LOWER MAINLAND')\n",
    "bc_df.loc[idxs, ['name', 'rating', 'review_count', 'city']].sort_values(by=['rating', 'review_count'], ascending=[False, False]).reset_index(drop=True)\n",
    "\n",
    "# Top 10 restaurants when including all 4 cities dataframes\n",
    "# Takes into account the number of reviews a particular restaruant gotten"
   ]
  },
  {
   "cell_type": "markdown",
   "metadata": {},
   "source": [
    "## Lets create and appened a list of 100 top populated US cities and see the top 5 average reviews of restaurants by city"
   ]
  },
  {
   "cell_type": "code",
   "execution_count": 100,
   "metadata": {},
   "outputs": [
    {
     "data": {
      "text/plain": [
       "array(['New York, New York', 'Los Angeles, California',\n",
       "       'Chicago, Illinois', 'Houston, Texas',\n",
       "       'Philadelphia, Pennsylvania', 'Phoenix, Arizona',\n",
       "       'San Antonio, Texas', 'San Diego, California', 'Dallas, Texas',\n",
       "       'San Jose, California', 'Austin, Texas', 'Indianapolis, Indiana',\n",
       "       'Jacksonville, Florida', 'San Francisco, California',\n",
       "       'Columbus, Ohio', 'Charlotte, North Carolina', 'Fort Worth, Texas',\n",
       "       'Detroit, Michigan', 'El Paso, Texas', 'Memphis, Tennessee',\n",
       "       'Seattle, Washington', 'Denver, Colorado',\n",
       "       'Washington, District of Columbia', 'Boston, Massachusetts',\n",
       "       'Nashville-Davidson, Tennessee', 'Baltimore, Maryland',\n",
       "       'Oklahoma City, Oklahoma', 'Louisville/Jefferson County, Kentucky',\n",
       "       'Portland, Oregon', 'Las Vegas, Nevada', 'Milwaukee, Wisconsin',\n",
       "       'Albuquerque, New Mexico', 'Tucson, Arizona', 'Fresno, California',\n",
       "       'Sacramento, California', 'Long Beach, California',\n",
       "       'Kansas City, Missouri', 'Mesa, Arizona',\n",
       "       'Virginia Beach, Virginia', 'Atlanta, Georgia',\n",
       "       'Colorado Springs, Colorado', 'Omaha, Nebraska',\n",
       "       'Raleigh, North Carolina', 'Miami, Florida', 'Oakland, California',\n",
       "       'Minneapolis, Minnesota', 'Tulsa, Oklahoma', 'Cleveland, Ohio',\n",
       "       'Wichita, Kansas', 'Arlington, Texas', 'New Orleans, Louisiana',\n",
       "       'Bakersfield, California', 'Tampa, Florida', 'Honolulu, Hawaii',\n",
       "       'Aurora, Colorado', 'Anaheim, California', 'Santa Ana, California',\n",
       "       'St. Louis, Missouri', 'Riverside, California',\n",
       "       'Corpus Christi, Texas', 'Lexington-Fayette, Kentucky',\n",
       "       'Pittsburgh, Pennsylvania', 'Anchorage, Alaska',\n",
       "       'Stockton, California', 'Cincinnati, Ohio', 'St. Paul, Minnesota',\n",
       "       'Toledo, Ohio', 'Greensboro, North Carolina', 'Newark, New Jersey',\n",
       "       'Plano, Texas', 'Henderson, Nevada', 'Lincoln, Nebraska',\n",
       "       'Buffalo, New York', 'Jersey City, New Jersey',\n",
       "       'Chula Vista, California', 'Fort Wayne, Indiana',\n",
       "       'Orlando, Florida', 'St. Petersburg, Florida', 'Chandler, Arizona',\n",
       "       'Laredo, Texas', 'Norfolk, Virginia', 'Durham, North Carolina',\n",
       "       'Madison, Wisconsin', 'Lubbock, Texas', 'Irvine, California',\n",
       "       'Winston-Salem, North Carolina', 'Glendale, Arizona',\n",
       "       'Garland, Texas', 'Hialeah, Florida', 'Reno, Nevada',\n",
       "       'Chesapeake, Virginia', 'Gilbert, Arizona',\n",
       "       'Baton Rouge, Louisiana', 'Irving, Texas', 'Scottsdale, Arizona',\n",
       "       'North Las Vegas, Nevada', 'Fremont, California',\n",
       "       'Boise City, Idaho', 'Richmond, Virginia',\n",
       "       'San Bernardino, California'], dtype=object)"
      ]
     },
     "execution_count": 100,
     "metadata": {},
     "output_type": "execute_result"
    }
   ],
   "source": [
    "cities_df = pd.read_csv('C:/Users/Jesse/downloads/uscities.csv')\n",
    "cities_df['location'] = cities_df['city']+ ', ' + cities_df['state']\n",
    "list_of_cities = cities_df['location'].values\n",
    "list_of_cities"
   ]
  },
  {
   "cell_type": "code",
   "execution_count": 102,
   "metadata": {},
   "outputs": [
    {
     "data": {
      "text/plain": [
       "(4647, 8)"
      ]
     },
     "execution_count": 102,
     "metadata": {},
     "output_type": "execute_result"
    }
   ],
   "source": [
    "for city in list_of_cities:\n",
    "    data = get_restaurant_results(cityname=city)\n",
    "    lst_of_resturants_per_city = process_data(data)\n",
    "    df = create_df(lst_of_resturants_per_city)\n",
    "    full_df = pd.concat([full_df, df], axis=0)\n",
    "\n",
    "\n",
    "full_df.shape\n",
    "\n",
    "\n",
    "# So we fetch, process and put into a DataFrame all the restuarants we get from each of the 100 cities above\n",
    "# Resulting DataFrame has 4647 rows, 8 columns"
   ]
  },
  {
   "cell_type": "code",
   "execution_count": 103,
   "metadata": {},
   "outputs": [],
   "source": [
    "# SAVE CSV FILE\n",
    "full_df.to_csv(r'./full_df.csv', index = False)"
   ]
  },
  {
   "cell_type": "code",
   "execution_count": 91,
   "metadata": {
    "scrolled": true
   },
   "outputs": [
    {
     "data": {
      "text/html": [
       "<div>\n",
       "<style scoped>\n",
       "    .dataframe tbody tr th:only-of-type {\n",
       "        vertical-align: middle;\n",
       "    }\n",
       "\n",
       "    .dataframe tbody tr th {\n",
       "        vertical-align: top;\n",
       "    }\n",
       "\n",
       "    .dataframe thead th {\n",
       "        text-align: right;\n",
       "    }\n",
       "</style>\n",
       "<table border=\"1\" class=\"dataframe\">\n",
       "  <thead>\n",
       "    <tr style=\"text-align: right;\">\n",
       "      <th></th>\n",
       "      <th>name</th>\n",
       "      <th>rating</th>\n",
       "      <th>category</th>\n",
       "      <th>price</th>\n",
       "      <th>review_count</th>\n",
       "      <th>lat</th>\n",
       "      <th>lon</th>\n",
       "      <th>city</th>\n",
       "    </tr>\n",
       "  </thead>\n",
       "  <tbody>\n",
       "    <tr>\n",
       "      <th>0</th>\n",
       "      <td>Jam Cafe on Beatty</td>\n",
       "      <td>4.5</td>\n",
       "      <td>U</td>\n",
       "      <td>$$</td>\n",
       "      <td>1067</td>\n",
       "      <td>49.280259</td>\n",
       "      <td>-123.109638</td>\n",
       "      <td>Vancouver</td>\n",
       "    </tr>\n",
       "    <tr>\n",
       "      <th>1</th>\n",
       "      <td>Medina Cafe</td>\n",
       "      <td>4.0</td>\n",
       "      <td>Breakfast &amp; Brunch</td>\n",
       "      <td>$$</td>\n",
       "      <td>2282</td>\n",
       "      <td>49.280443</td>\n",
       "      <td>-123.117036</td>\n",
       "      <td>Vancouver</td>\n",
       "    </tr>\n",
       "    <tr>\n",
       "      <th>2</th>\n",
       "      <td>The Flying Pig - Yaletown</td>\n",
       "      <td>4.0</td>\n",
       "      <td>Other</td>\n",
       "      <td>$$</td>\n",
       "      <td>1095</td>\n",
       "      <td>49.275010</td>\n",
       "      <td>-123.122000</td>\n",
       "      <td>Vancouver</td>\n",
       "    </tr>\n",
       "    <tr>\n",
       "      <th>3</th>\n",
       "      <td>OEB Breakfast Co.</td>\n",
       "      <td>4.0</td>\n",
       "      <td>U</td>\n",
       "      <td>$$</td>\n",
       "      <td>331</td>\n",
       "      <td>49.273434</td>\n",
       "      <td>-123.119272</td>\n",
       "      <td>Vancouver</td>\n",
       "    </tr>\n",
       "    <tr>\n",
       "      <th>4</th>\n",
       "      <td>Saku</td>\n",
       "      <td>4.0</td>\n",
       "      <td>U</td>\n",
       "      <td>$$</td>\n",
       "      <td>115</td>\n",
       "      <td>49.263125</td>\n",
       "      <td>-123.116603</td>\n",
       "      <td>Vancouver</td>\n",
       "    </tr>\n",
       "  </tbody>\n",
       "</table>\n",
       "</div>"
      ],
      "text/plain": [
       "                        name  rating            category price  review_count  \\\n",
       "0         Jam Cafe on Beatty     4.5                   U    $$          1067   \n",
       "1                Medina Cafe     4.0  Breakfast & Brunch    $$          2282   \n",
       "2  The Flying Pig - Yaletown     4.0               Other    $$          1095   \n",
       "3          OEB Breakfast Co.     4.0                   U    $$           331   \n",
       "4                       Saku     4.0                   U    $$           115   \n",
       "\n",
       "         lat         lon       city  \n",
       "0  49.280259 -123.109638  Vancouver  \n",
       "1  49.280443 -123.117036  Vancouver  \n",
       "2  49.275010 -123.122000  Vancouver  \n",
       "3  49.273434 -123.119272  Vancouver  \n",
       "4  49.263125 -123.116603  Vancouver  "
      ]
     },
     "execution_count": 91,
     "metadata": {},
     "output_type": "execute_result"
    }
   ],
   "source": [
    "full_df = pd.read_csv('./full_df.csv')\n",
    "full_df.head()"
   ]
  },
  {
   "cell_type": "code",
   "execution_count": 1,
   "metadata": {},
   "outputs": [],
   "source": [
    "# with sqlite.connect('restaurants.db') as con:\n",
    "#     cur = con.cursor()\n",
    "#     cur.execute(\"CREATE TABLE IF NOT EXISTS us_can(id INTEGER PRIMARY KEY, name TEXT, rating INT, category TEXT, price TEXT, lat INT, lon INT, city INT)\")\n",
    "    \n",
    "#     for index, row in bc_df.iterrows():\n",
    "#         cur.execute(f\"INSERT INTO bc VALUES(NULL, {row['name']}, {row['rating']}, {row['category']}, {row['price']}, {row['lat']}, {row['lon']}, {row['city']})\")"
   ]
  },
  {
   "cell_type": "code",
   "execution_count": 39,
   "metadata": {},
   "outputs": [],
   "source": [
    "# Get all the cities where the sum of their review_count is the heightest\n",
    "top_reviews = full_df.groupby(by='city')['review_count'].sum().sort_values(ascending=False)[:15].index"
   ]
  },
  {
   "cell_type": "code",
   "execution_count": 93,
   "metadata": {},
   "outputs": [
    {
     "name": "stdout",
     "output_type": "stream",
     "text": [
      "TOP 5 CITIES WITH HIGHEST AVERAGE RATINGS OF RESTAURANTS (GROUPED BY CITY)\n"
     ]
    },
    {
     "data": {
      "text/plain": [
       "city\n",
       "Los Angeles    4.41\n",
       "Portland       4.40\n",
       "Chicago        4.32\n",
       "Seattle        4.28\n",
       "Nashville      4.26\n",
       "Name: rating, dtype: float64"
      ]
     },
     "execution_count": 93,
     "metadata": {},
     "output_type": "execute_result"
    }
   ],
   "source": [
    "print('TOP 5 CITIES WITH HIGHEST AVERAGE RATINGS OF RESTAURANTS (GROUPED BY CITY)')\n",
    "\n",
    "# review_count is taken into consideration\n",
    "round(full_df.groupby(by='city')['rating'].mean().loc[top_reviews].sort_values(ascending=False)[:5],2)\n",
    "\n",
    "# This also takes into account review_count column, I didnt include summed review_counts less then a certain number."
   ]
  },
  {
   "cell_type": "code",
   "execution_count": null,
   "metadata": {},
   "outputs": [],
   "source": []
  },
  {
   "cell_type": "markdown",
   "metadata": {},
   "source": [
    "# Machine Learning"
   ]
  },
  {
   "cell_type": "markdown",
   "metadata": {},
   "source": [
    "### Can we make a model that predicts the sentiment/rating of a resturant given the following feature paramters (lat, lon, review_count, pricing and category)?"
   ]
  },
  {
   "cell_type": "code",
   "execution_count": 104,
   "metadata": {},
   "outputs": [],
   "source": [
    "from sklearn.ensemble import RandomForestClassifier, AdaBoostClassifier\n",
    "from sklearn.preprocessing import OneHotEncoder, StandardScaler\n",
    "from sklearn.compose import ColumnTransformer\n",
    "from sklearn.pipeline import Pipeline\n",
    "from sklearn.model_selection import train_test_split\n",
    "from xgboost import XGBClassifier"
   ]
  },
  {
   "cell_type": "code",
   "execution_count": 105,
   "metadata": {},
   "outputs": [],
   "source": [
    "full_df = pd.read_csv('full_df.csv')"
   ]
  },
  {
   "cell_type": "code",
   "execution_count": 106,
   "metadata": {},
   "outputs": [
    {
     "data": {
      "text/plain": [
       "(4647, 8)"
      ]
     },
     "execution_count": 106,
     "metadata": {},
     "output_type": "execute_result"
    }
   ],
   "source": [
    "full_df.shape"
   ]
  },
  {
   "cell_type": "markdown",
   "metadata": {},
   "source": [
    "#### So instead of trying to predict a float value rating such as \"3.5 stars\", Ive decided to change the rating column to 'Good', 'Neutral'  or 'Bad'"
   ]
  },
  {
   "cell_type": "code",
   "execution_count": 107,
   "metadata": {},
   "outputs": [],
   "source": [
    "def get_sentiment(x):\n",
    "    if x>=4:\n",
    "        return 'Good'\n",
    "    elif x>=3 and x<4:\n",
    "        return 'Neutral'\n",
    "    elif x < 3:\n",
    "        return 'Bad'"
   ]
  },
  {
   "cell_type": "code",
   "execution_count": 108,
   "metadata": {},
   "outputs": [
    {
     "data": {
      "text/plain": [
       "array(['Good', 'Neutral', 'Bad'], dtype=object)"
      ]
     },
     "execution_count": 108,
     "metadata": {},
     "output_type": "execute_result"
    }
   ],
   "source": [
    "# Converting our rating column (Dependant variable) to either 'Good', 'Neutral', 'Bad'\n",
    "full_df['rating'] = full_df['rating'].apply(lambda x: get_sentiment(x))\n",
    "full_df['rating'].unique()"
   ]
  },
  {
   "cell_type": "code",
   "execution_count": 109,
   "metadata": {},
   "outputs": [
    {
     "data": {
      "text/plain": [
       "((4647, 5), (4647,))"
      ]
     },
     "execution_count": 109,
     "metadata": {},
     "output_type": "execute_result"
    }
   ],
   "source": [
    "# Drop useless columns\n",
    "X = full_df.drop(['name', 'city', 'rating'], axis='columns')\n",
    "y = full_df['rating']\n",
    "\n",
    "X.shape, y.shape"
   ]
  },
  {
   "cell_type": "code",
   "execution_count": 110,
   "metadata": {},
   "outputs": [
    {
     "data": {
      "text/plain": [
       "((3717, 5), (3717,), (930, 5), (930,))"
      ]
     },
     "execution_count": 110,
     "metadata": {},
     "output_type": "execute_result"
    }
   ],
   "source": [
    "# split our data\n",
    "\n",
    "xtrain, xtest, ytrain, ytest = train_test_split(X, y, test_size=0.2)\n",
    "\n",
    "xtrain.shape, ytrain.shape, xtest.shape, ytest.shape"
   ]
  },
  {
   "cell_type": "code",
   "execution_count": 111,
   "metadata": {},
   "outputs": [],
   "source": [
    "categorical_columns = ['price', 'category']\n",
    "numerical_columns = ['review_count', 'lat', 'lon']\n",
    "\n",
    "ct = ColumnTransformer([('ohe', OneHotEncoder(), categorical_columns), \n",
    "                        ('stdsclr', StandardScaler(), numerical_columns)], remainder='passthrough')\n",
    "\n",
    "transformed_xtrain = ct.fit_transform(xtrain)"
   ]
  },
  {
   "cell_type": "code",
   "execution_count": 112,
   "metadata": {},
   "outputs": [
    {
     "data": {
      "text/plain": [
       "XGBClassifier(objective='multi:softprob')"
      ]
     },
     "execution_count": 112,
     "metadata": {},
     "output_type": "execute_result"
    }
   ],
   "source": [
    "rf_clf = RandomForestClassifier()\n",
    "ada_clf = AdaBoostClassifier()\n",
    "xgb_clf = XGBClassifier()\n",
    "\n",
    "rf_clf.fit(transformed_xtrain, ytrain)\n",
    "ada_clf.fit(transformed_xtrain, ytrain)\n",
    "xgb_clf.fit(transformed_xtrain, ytrain)"
   ]
  },
  {
   "cell_type": "code",
   "execution_count": 113,
   "metadata": {},
   "outputs": [
    {
     "name": "stdout",
     "output_type": "stream",
     "text": [
      "Random forest:  70.32 %\n",
      "Adaboost:  70.86 %\n",
      "XGboost:  72.47 %\n"
     ]
    }
   ],
   "source": [
    "transformed_xtest = ct.transform(xtest)\n",
    "\n",
    "print('Random forest: ', round(rf_clf.score(transformed_xtest, ytest)*100, 2), '%')\n",
    "print('Adaboost: ', round(ada_clf.score(transformed_xtest, ytest)*100, 2), '%')\n",
    "print('XGboost: ', round(xgb_clf.score(transformed_xtest, ytest)*100, 2), '%')\n",
    "\n",
    "# Accuracy: Our models correctly predicted the results 70% of the time"
   ]
  },
  {
   "cell_type": "markdown",
   "metadata": {},
   "source": [
    "#### Lets make a prediction!"
   ]
  },
  {
   "cell_type": "code",
   "execution_count": 54,
   "metadata": {},
   "outputs": [],
   "source": [
    "# Create a function to predict random choice using Adaboost!\n",
    "\n",
    "def get_prediction(idx):\n",
    "    # Transform the sample \n",
    "    sampled_transformed = ct.transform(xtest.loc[[idx]])\n",
    "    \n",
    "    # Make prediction\n",
    "    prediction = ada_clf.predict(sampled_transformed)[0]\n",
    "    actual = ytest.loc[idx]\n",
    "    \n",
    "    print(\"Models prediction: \", prediction)\n",
    "    print(\"Actual: \", actual)\n",
    "    "
   ]
  },
  {
   "cell_type": "code",
   "execution_count": 65,
   "metadata": {},
   "outputs": [
    {
     "data": {
      "text/html": [
       "<div>\n",
       "<style scoped>\n",
       "    .dataframe tbody tr th:only-of-type {\n",
       "        vertical-align: middle;\n",
       "    }\n",
       "\n",
       "    .dataframe tbody tr th {\n",
       "        vertical-align: top;\n",
       "    }\n",
       "\n",
       "    .dataframe thead th {\n",
       "        text-align: right;\n",
       "    }\n",
       "</style>\n",
       "<table border=\"1\" class=\"dataframe\">\n",
       "  <thead>\n",
       "    <tr style=\"text-align: right;\">\n",
       "      <th></th>\n",
       "      <th>name</th>\n",
       "      <th>rating</th>\n",
       "      <th>category</th>\n",
       "      <th>price</th>\n",
       "      <th>review_count</th>\n",
       "      <th>lat</th>\n",
       "      <th>lon</th>\n",
       "      <th>city</th>\n",
       "    </tr>\n",
       "  </thead>\n",
       "  <tbody>\n",
       "    <tr>\n",
       "      <th>2265</th>\n",
       "      <td>Lowry Hill Meats</td>\n",
       "      <td>Good</td>\n",
       "      <td>Other</td>\n",
       "      <td>$$</td>\n",
       "      <td>61</td>\n",
       "      <td>44.96301</td>\n",
       "      <td>-93.29152</td>\n",
       "      <td>Minneapolis</td>\n",
       "    </tr>\n",
       "  </tbody>\n",
       "</table>\n",
       "</div>"
      ],
      "text/plain": [
       "                  name rating category price  review_count       lat  \\\n",
       "2265  Lowry Hill Meats   Good    Other    $$            61  44.96301   \n",
       "\n",
       "           lon         city  \n",
       "2265 -93.29152  Minneapolis  "
      ]
     },
     "execution_count": 65,
     "metadata": {},
     "output_type": "execute_result"
    }
   ],
   "source": [
    "# Get a random sample from the xtest set!\n",
    "random_index = np.random.choice(xtest.index)\n",
    "\n",
    "sample = full_df.loc[[random_index]]\n",
    "\n",
    "sample"
   ]
  },
  {
   "cell_type": "code",
   "execution_count": 66,
   "metadata": {},
   "outputs": [
    {
     "name": "stdout",
     "output_type": "stream",
     "text": [
      "Models prediction:  Good\n",
      "Actual:  Good\n"
     ]
    }
   ],
   "source": [
    "get_prediction(random_index)"
   ]
  },
  {
   "cell_type": "code",
   "execution_count": null,
   "metadata": {},
   "outputs": [],
   "source": []
  },
  {
   "cell_type": "code",
   "execution_count": null,
   "metadata": {},
   "outputs": [],
   "source": []
  },
  {
   "cell_type": "markdown",
   "metadata": {},
   "source": [
    "### What is the percentage of randomly guessing a multiclass label with 3 different possible classes correctly?"
   ]
  },
  {
   "cell_type": "code",
   "execution_count": null,
   "metadata": {},
   "outputs": [],
   "source": []
  },
  {
   "cell_type": "code",
   "execution_count": null,
   "metadata": {},
   "outputs": [],
   "source": []
  },
  {
   "cell_type": "code",
   "execution_count": null,
   "metadata": {},
   "outputs": [],
   "source": []
  },
  {
   "cell_type": "code",
   "execution_count": null,
   "metadata": {},
   "outputs": [],
   "source": []
  },
  {
   "cell_type": "code",
   "execution_count": null,
   "metadata": {},
   "outputs": [],
   "source": []
  },
  {
   "cell_type": "code",
   "execution_count": null,
   "metadata": {},
   "outputs": [],
   "source": []
  },
  {
   "cell_type": "markdown",
   "metadata": {},
   "source": [
    "## The models are technically doing better then guessing but the question is:\n",
    "## Can we trust the accuracy of these models?"
   ]
  },
  {
   "cell_type": "code",
   "execution_count": null,
   "metadata": {},
   "outputs": [],
   "source": []
  },
  {
   "cell_type": "code",
   "execution_count": null,
   "metadata": {},
   "outputs": [],
   "source": []
  },
  {
   "cell_type": "code",
   "execution_count": null,
   "metadata": {},
   "outputs": [],
   "source": []
  },
  {
   "cell_type": "code",
   "execution_count": null,
   "metadata": {},
   "outputs": [],
   "source": []
  },
  {
   "cell_type": "code",
   "execution_count": null,
   "metadata": {},
   "outputs": [],
   "source": []
  },
  {
   "cell_type": "code",
   "execution_count": null,
   "metadata": {},
   "outputs": [],
   "source": []
  },
  {
   "cell_type": "markdown",
   "metadata": {},
   "source": [
    "### Answer: NO!"
   ]
  },
  {
   "cell_type": "code",
   "execution_count": 72,
   "metadata": {},
   "outputs": [
    {
     "data": {
      "text/plain": [
       "Good       3248\n",
       "Neutral    1082\n",
       "Bad         317\n",
       "Name: rating, dtype: int64"
      ]
     },
     "execution_count": 72,
     "metadata": {},
     "output_type": "execute_result"
    }
   ],
   "source": [
    "full_df['rating'].value_counts()"
   ]
  },
  {
   "cell_type": "code",
   "execution_count": 60,
   "metadata": {},
   "outputs": [
    {
     "name": "stdout",
     "output_type": "stream",
     "text": [
      "Proportion of samples classified as \"Good\":  70.0%\n"
     ]
    }
   ],
   "source": [
    "# Looking at the value counts above we see that the total proportion of samples labled \"Good\" account for 70% of total data\n",
    "# Our dataset is imbalanced.\n",
    "\n",
    "#('Good')/('Good'+ + 'Neutral' + 'Bad') = ~0.7\n",
    "#\n",
    "\n",
    "# Therefore, if we created a function that just predicts/outputs 'Good' every time it saw a sample from our test set\n",
    "# this dumb function would also acheive 70% accuracy also.\n",
    "\n",
    "total = full_df['rating'].value_counts().sum()\n",
    "proportion_of_good = round((full_df['rating'].value_counts()['Good'])/total, 1)*100\n",
    "\n",
    "\n",
    "\n",
    "print(f'Proportion of samples classified as \"Good\":  {proportion_of_good}%')\n",
    "\n",
    "# Therefore we cannot trust the accuracy metric for a model on this imbalenced data set"
   ]
  },
  {
   "cell_type": "code",
   "execution_count": null,
   "metadata": {},
   "outputs": [],
   "source": []
  },
  {
   "cell_type": "markdown",
   "metadata": {},
   "source": [
    "## F1 score is a better metric then accuracy because it takes into account precision and recall."
   ]
  },
  {
   "cell_type": "code",
   "execution_count": 67,
   "metadata": {},
   "outputs": [],
   "source": [
    "# As you increase recall you will decrease precision (i.e more false positives)\n",
    "# As you increase precision you will decrease recall (i.e more false negatives)\n",
    "# Need to find the right balance between the two metrics for a model\n",
    "\n",
    "# So for the example of the function that just returns 'Good':\n",
    "# That function has very high recall but very low precision (Produces lots of false positives)\n",
    "\n",
    "# F1 score will combine both metrics to produce an overall score."
   ]
  },
  {
   "cell_type": "code",
   "execution_count": 76,
   "metadata": {},
   "outputs": [],
   "source": [
    "from sklearn.metrics import f1_score, accuracy_score"
   ]
  },
  {
   "cell_type": "code",
   "execution_count": 114,
   "metadata": {},
   "outputs": [
    {
     "name": "stdout",
     "output_type": "stream",
     "text": [
      "Random guessing on 3 classes on balanced data set:  33.66 %\n"
     ]
    }
   ],
   "source": [
    "actual_guessing = [np.random.randint(low=0, high=3) for _ in range(10000)]\n",
    "prediction_guessing = [np.random.randint(low=0, high=3) for _ in range(10000)]\n",
    "\n",
    "print('Random guessing on 3 classes on balanced data set: ', round(f1_score(actual_guessing, prediction_guessing, average='weighted')*100,2), '%')"
   ]
  },
  {
   "cell_type": "code",
   "execution_count": null,
   "metadata": {},
   "outputs": [],
   "source": []
  },
  {
   "cell_type": "code",
   "execution_count": 117,
   "metadata": {},
   "outputs": [
    {
     "name": "stdout",
     "output_type": "stream",
     "text": [
      "f1 score on just predicting \"Good\" for every sample for our test data: 57.51 %\n"
     ]
    }
   ],
   "source": [
    "# The f1 score on our imbalanced dataset if we just output 'Good' for every prediction\n",
    "\n",
    "preds = ['Good' for _ in range(full_df.shape[0])]\n",
    "print('f1 score on just predicting \"Good\" for every sample for our test data:',round(f1_score(y, preds, average='weighted')*100, 2), '%')"
   ]
  },
  {
   "cell_type": "markdown",
   "metadata": {},
   "source": [
    "###### F1 score is lower then accuracy score because it is being penalized for the low precision i.e predicting 'Good' for every sample"
   ]
  },
  {
   "cell_type": "code",
   "execution_count": null,
   "metadata": {},
   "outputs": [],
   "source": []
  },
  {
   "cell_type": "code",
   "execution_count": 116,
   "metadata": {},
   "outputs": [
    {
     "name": "stdout",
     "output_type": "stream",
     "text": [
      "f1 score for our models predictions on the test data:  65.68 %\n"
     ]
    }
   ],
   "source": [
    "y_preds = ada_clf.predict(transformed_xtest)\n",
    "print('f1 score for our models predictions on the test data: ',round(f1_score(ytest, y_preds, average='weighted')*100, 2), '%')"
   ]
  },
  {
   "cell_type": "markdown",
   "metadata": {},
   "source": [
    "### Conclusion: Our model statistically preforms better then just random guessing, but only slightly better then one that outputs a constant label.\n",
    "\n",
    "### Therefore the answer is no, we cannot make a decent model with the given feature variables (lat, lon, category, price, review_count) to predict sentiment/rating of a restaurant."
   ]
  },
  {
   "cell_type": "markdown",
   "metadata": {},
   "source": [
    "## FIN"
   ]
  },
  {
   "cell_type": "code",
   "execution_count": null,
   "metadata": {},
   "outputs": [],
   "source": []
  }
 ],
 "metadata": {
  "kernelspec": {
   "display_name": "Python 3",
   "language": "python",
   "name": "python3"
  },
  "language_info": {
   "codemirror_mode": {
    "name": "ipython",
    "version": 3
   },
   "file_extension": ".py",
   "mimetype": "text/x-python",
   "name": "python",
   "nbconvert_exporter": "python",
   "pygments_lexer": "ipython3",
   "version": "3.7.4"
  }
 },
 "nbformat": 4,
 "nbformat_minor": 2
}
